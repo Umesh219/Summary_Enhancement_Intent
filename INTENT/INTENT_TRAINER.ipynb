{
 "cells": [
  {
   "cell_type": "code",
   "execution_count": 21,
   "metadata": {},
   "outputs": [
    {
     "name": "stdout",
     "output_type": "stream",
     "text": [
      "Requirement already satisfied: scikit-learn in c:\\users\\umesh.malviya1\\appdata\\local\\programs\\python\\python312\\lib\\site-packages (1.4.1.post1)Note: you may need to restart the kernel to use updated packages.\n",
      "\n",
      "Requirement already satisfied: numpy<2.0,>=1.19.5 in c:\\users\\umesh.malviya1\\appdata\\local\\programs\\python\\python312\\lib\\site-packages (from scikit-learn) (1.26.4)\n",
      "Requirement already satisfied: scipy>=1.6.0 in c:\\users\\umesh.malviya1\\appdata\\local\\programs\\python\\python312\\lib\\site-packages (from scikit-learn) (1.13.0)\n",
      "Requirement already satisfied: joblib>=1.2.0 in c:\\users\\umesh.malviya1\\appdata\\local\\programs\\python\\python312\\lib\\site-packages (from scikit-learn) (1.3.2)\n",
      "Requirement already satisfied: threadpoolctl>=2.0.0 in c:\\users\\umesh.malviya1\\appdata\\local\\programs\\python\\python312\\lib\\site-packages (from scikit-learn) (3.4.0)\n"
     ]
    }
   ],
   "source": [
    "%pip install scikit-learn\n",
    "\n",
    "from sklearn.preprocessing import LabelEncoder\n",
    "\n",
    "class IntentDataset(Dataset):\n",
    "    def __init__(self, dataframe, tokenizer, max_length):\n",
    "        self.dataframe = dataframe\n",
    "        self.tokenizer = tokenizer\n",
    "        self.max_length = max_length\n",
    "        self.label_encoder = LabelEncoder()\n",
    "        self.dataframe['label'] = self.label_encoder.fit_transform(self.dataframe['intent'])\n",
    "\n",
    "    def __len__(self):\n",
    "        return len(self.dataframe)\n",
    "\n",
    "    def __getitem__(self, idx):\n",
    "        row = self.dataframe.iloc[idx]\n",
    "        text = row['conversation']\n",
    "        label = row['label']\n",
    "\n",
    "        encoding = self.tokenizer(text, truncation=True, padding='max_length', max_length=self.max_length, return_tensors='pt')\n",
    "        return {\n",
    "            'input_ids': encoding['input_ids'].flatten(),\n",
    "            'attention_mask': encoding['attention_mask'].flatten(),\n",
    "            'labels': torch.tensor(label, dtype=torch.long)\n",
    "        }\n"
   ]
  },
  {
   "cell_type": "code",
   "execution_count": 23,
   "metadata": {},
   "outputs": [],
   "source": [
    "# Load the training data\n",
    "train_df = pd.read_csv('C:/Users/umesh.malviya1/Downloads/intent_classification_data.csv')\n",
    "\n",
    "\n",
    "\n"
   ]
  },
  {
   "cell_type": "code",
   "execution_count": 24,
   "metadata": {},
   "outputs": [
    {
     "name": "stderr",
     "output_type": "stream",
     "text": [
      "Some weights of BertForSequenceClassification were not initialized from the model checkpoint at bert-base-uncased and are newly initialized: ['classifier.bias', 'classifier.weight']\n",
      "You should probably TRAIN this model on a down-stream task to be able to use it for predictions and inference.\n"
     ]
    }
   ],
   "source": [
    "# Initialize tokenizer\n",
    "tokenizer = BertTokenizer.from_pretrained('bert-base-uncased')\n",
    "\n",
    "# Initialize model\n",
    "model = BertForSequenceClassification.from_pretrained('bert-base-uncased', num_labels=3)\n",
    "\n",
    "# Tokenize and create DataLoader\n",
    "train_dataset = IntentDataset(train_df, tokenizer, max_length=32)\n",
    "train_loader = DataLoader(train_dataset, batch_size=4, shuffle=True)\n",
    "\n",
    "# Prepare optimizer\n",
    "optimizer = torch.optim.AdamW(model.parameters(), lr=5e-5)"
   ]
  },
  {
   "cell_type": "code",
   "execution_count": 25,
   "metadata": {},
   "outputs": [
    {
     "name": "stdout",
     "output_type": "stream",
     "text": [
      "Epoch 1/10\n",
      "----------\n",
      "Average Loss: 0.9165508349736532\n",
      "Epoch 2/10\n",
      "----------\n",
      "Average Loss: 0.49037498732407886\n",
      "Epoch 3/10\n",
      "----------\n",
      "Average Loss: 0.2545113724966844\n",
      "Epoch 4/10\n",
      "----------\n",
      "Average Loss: 0.10656096910436948\n",
      "Epoch 5/10\n",
      "----------\n",
      "Average Loss: 0.0925748396354417\n",
      "Epoch 6/10\n",
      "----------\n",
      "Average Loss: 0.030170060073335964\n",
      "Epoch 7/10\n",
      "----------\n",
      "Average Loss: 0.020582498128836352\n",
      "Epoch 8/10\n",
      "----------\n",
      "Average Loss: 0.01261688667970399\n",
      "Epoch 9/10\n",
      "----------\n",
      "Average Loss: 0.009674558086165538\n",
      "Epoch 10/10\n",
      "----------\n",
      "Average Loss: 0.00741783413104713\n"
     ]
    },
    {
     "data": {
      "text/plain": [
       "('C:/Users/umesh.malviya1/Downloads/intent_classifier\\\\tokenizer_config.json',\n",
       " 'C:/Users/umesh.malviya1/Downloads/intent_classifier\\\\special_tokens_map.json',\n",
       " 'C:/Users/umesh.malviya1/Downloads/intent_classifier\\\\vocab.txt',\n",
       " 'C:/Users/umesh.malviya1/Downloads/intent_classifier\\\\added_tokens.json')"
      ]
     },
     "execution_count": 25,
     "metadata": {},
     "output_type": "execute_result"
    }
   ],
   "source": [
    "# Training loop\n",
    "for epoch in range(10):\n",
    "    print(f'Epoch {epoch + 1}/10')\n",
    "    print('-' * 10)\n",
    "\n",
    "    model.train()\n",
    "    total_loss = 0\n",
    "\n",
    "    for batch in train_loader:\n",
    "        optimizer.zero_grad()\n",
    "\n",
    "        input_ids = batch['input_ids']\n",
    "        attention_mask = batch['attention_mask']\n",
    "        labels = batch['labels']\n",
    "\n",
    "        outputs = model(input_ids, attention_mask=attention_mask, labels=labels)\n",
    "        loss = outputs.loss\n",
    "        total_loss += loss.item()\n",
    "\n",
    "        loss.backward()\n",
    "        optimizer.step()\n",
    "\n",
    "    avg_loss = total_loss / len(train_loader)\n",
    "    print(f'Average Loss: {avg_loss}')\n",
    "\n",
    "# Save the trained model\n",
    "model.save_pretrained('C:/Users/umesh.malviya1/Downloads/intent_classifier')\n",
    "tokenizer.save_pretrained('C:/Users/umesh.malviya1/Downloads/intent_classifier')"
   ]
  },
  {
   "cell_type": "code",
   "execution_count": 16,
   "metadata": {},
   "outputs": [
    {
     "data": {
      "text/plain": [
       "('C:/Users/umesh.malviya1/Downloads/intent_classifier\\\\tokenizer_config.json',\n",
       " 'C:/Users/umesh.malviya1/Downloads/intent_classifier\\\\special_tokens_map.json',\n",
       " 'C:/Users/umesh.malviya1/Downloads/intent_classifier\\\\vocab.txt',\n",
       " 'C:/Users/umesh.malviya1/Downloads/intent_classifier\\\\added_tokens.json')"
      ]
     },
     "execution_count": 16,
     "metadata": {},
     "output_type": "execute_result"
    }
   ],
   "source": []
  },
  {
   "cell_type": "code",
   "execution_count": null,
   "metadata": {},
   "outputs": [],
   "source": []
  }
 ],
 "metadata": {
  "kernelspec": {
   "display_name": "Python 3",
   "language": "python",
   "name": "python3"
  },
  "language_info": {
   "codemirror_mode": {
    "name": "ipython",
    "version": 3
   },
   "file_extension": ".py",
   "mimetype": "text/x-python",
   "name": "python",
   "nbconvert_exporter": "python",
   "pygments_lexer": "ipython3",
   "version": "3.12.2"
  }
 },
 "nbformat": 4,
 "nbformat_minor": 2
}
